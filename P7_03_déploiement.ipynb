{
 "cells": [
  {
   "cell_type": "markdown",
   "id": "9bf00687",
   "metadata": {},
   "source": [
    "TODO : Mise en page du notebook"
   ]
  },
  {
   "cell_type": "markdown",
   "id": "b0cc04a2",
   "metadata": {},
   "source": [
    "## Importation"
   ]
  },
  {
   "cell_type": "code",
   "execution_count": 1,
   "id": "cdc6f1a1",
   "metadata": {},
   "outputs": [
    {
     "data": {
      "text/plain": [
       "True"
      ]
     },
     "execution_count": 1,
     "metadata": {},
     "output_type": "execute_result"
    }
   ],
   "source": [
    "from azureml.core import Model\n",
    "from azureml.core import Workspace, Environment\n",
    "from azureml.core.authentication import InteractiveLoginAuthentication\n",
    "from azureml.core.environment import Environment\n",
    "from azureml.core.model import InferenceConfig\n",
    "from azureml.core.webservice import AciWebservice\n",
    "\n",
    "import os\n",
    "import requests\n",
    "import json\n",
    "from dotenv import load_dotenv\n",
    "\n",
    "load_dotenv()"
   ]
  },
  {
   "cell_type": "markdown",
   "id": "e2618904",
   "metadata": {},
   "source": [
    "source : https://docs.microsoft.com/en-us/azure/machine-learning/how-to-deploy-and-where?tabs=python"
   ]
  },
  {
   "cell_type": "markdown",
   "id": "56954368",
   "metadata": {},
   "source": [
    "Importation des clés"
   ]
  },
  {
   "cell_type": "code",
   "execution_count": 2,
   "id": "f16bf04b",
   "metadata": {},
   "outputs": [],
   "source": [
    "# clés\n",
    "tenant_id = os.getenv(\"YOUR_ML_WORKSPACE_TENANT_ID\")\n",
    "subscription_id = os.getenv(\"YOUR_ML_WORKSPACE_SUBSCRIPTION_ID\")\n",
    "resource_group = os.getenv(\"YOUR_ML_WORKSPACE_RESOURCE_GROUP\")\n",
    "workspace_name = os.getenv(\"YOUR_ML_WORKSPACE_WORKSPACE_NAME\")"
   ]
  },
  {
   "cell_type": "markdown",
   "id": "c25bd48f",
   "metadata": {},
   "source": [
    "Authentification"
   ]
  },
  {
   "cell_type": "code",
   "execution_count": 3,
   "id": "6e6ba5d2",
   "metadata": {},
   "outputs": [],
   "source": [
    "ia = InteractiveLoginAuthentication(tenant_id=tenant_id)\n",
    "\n",
    "ws = Workspace.get(name=workspace_name,\n",
    "                   subscription_id=subscription_id,\n",
    "                   resource_group=resource_group,\n",
    "                   auth=ia)"
   ]
  },
  {
   "cell_type": "markdown",
   "id": "a6f58683",
   "metadata": {},
   "source": [
    "enregistrement du modèle"
   ]
  },
  {
   "cell_type": "code",
   "execution_count": 4,
   "id": "aa170934",
   "metadata": {},
   "outputs": [
    {
     "name": "stdout",
     "output_type": "stream",
     "text": [
      "Registering model lstm_glove\n"
     ]
    }
   ],
   "source": [
    "model = Model.register(\n",
    "    workspace=ws,\n",
    "    model_path='data/deploiement',\n",
    "    model_name='lstm_glove',\n",
    "    description='Modèle avancé - Analyse Sentiment - LSTM + GloVe')"
   ]
  },
  {
   "cell_type": "markdown",
   "id": "bbfc723b",
   "metadata": {},
   "source": [
    "déploiment"
   ]
  },
  {
   "cell_type": "code",
   "execution_count": 5,
   "id": "444a3026",
   "metadata": {},
   "outputs": [],
   "source": [
    "myenv = Environment('modelavance')\n",
    "myenv.python.conda_dependencies.add_pip_package(\"pickle5\")\n",
    "myenv.python.conda_dependencies.add_pip_package(\"tensorflow\")\n",
    "myenv.python.conda_dependencies.add_pip_package(\"azureml-core\")"
   ]
  },
  {
   "cell_type": "code",
   "execution_count": 6,
   "id": "1b06aab4",
   "metadata": {},
   "outputs": [],
   "source": [
    "inference_config = InferenceConfig(environment=myenv,\n",
    "                                   entry_script='score.py')"
   ]
  },
  {
   "cell_type": "markdown",
   "id": "93d42b2e",
   "metadata": {},
   "source": [
    "VM"
   ]
  },
  {
   "cell_type": "code",
   "execution_count": 7,
   "id": "174dcf40",
   "metadata": {},
   "outputs": [],
   "source": [
    "deployment_config = AciWebservice.deploy_configuration(cpu_cores=0.5,\n",
    "                                                       memory_gb=1)"
   ]
  },
  {
   "cell_type": "markdown",
   "id": "583d0684",
   "metadata": {},
   "source": [
    "démarrage"
   ]
  },
  {
   "cell_type": "code",
   "execution_count": 8,
   "id": "c105183c",
   "metadata": {},
   "outputs": [
    {
     "name": "stdout",
     "output_type": "stream",
     "text": [
      "Tips: You can try get_logs(): https://aka.ms/debugimage#dockerlog or local deployment: https://aka.ms/debugimage#debug-locally to debug if deployment takes longer than 10 minutes.\n",
      "Running\n",
      "2022-03-01 00:15:21+01:00 Creating Container Registry if not exists.\n",
      "2022-03-01 00:15:21+01:00 Registering the environment.\n",
      "2022-03-01 00:15:24+01:00 Use the existing image.\n",
      "2022-03-01 00:15:24+01:00 Generating deployment configuration.\n",
      "2022-03-01 00:15:26+01:00 Submitting deployment to compute.\n",
      "2022-03-01 00:15:31+01:00 Checking the status of deployment tweet-sentiment-service..\n",
      "2022-03-01 00:18:11+01:00 Checking the status of inference endpoint tweet-sentiment-service.\n",
      "Succeeded\n",
      "ACI service creation operation finished, operation \"Succeeded\"\n",
      "Healthy\n"
     ]
    }
   ],
   "source": [
    "service = Model.deploy(workspace=ws,\n",
    "                       name='tweet-sentiment-service',\n",
    "                       models=[model],\n",
    "                       inference_config=inference_config,\n",
    "                       deployment_config=deployment_config)\n",
    "\n",
    "\n",
    "service.wait_for_deployment(show_output=True)\n",
    "\n",
    "# Verbose\n",
    "print(service.state)"
   ]
  },
  {
   "cell_type": "markdown",
   "id": "4106002e",
   "metadata": {},
   "source": [
    "logs"
   ]
  },
  {
   "cell_type": "code",
   "execution_count": 9,
   "id": "eadd3888",
   "metadata": {},
   "outputs": [
    {
     "name": "stdout",
     "output_type": "stream",
     "text": [
      "2022-02-28T23:17:49,488164200+00:00 - iot-server/run \n",
      "2022-02-28T23:17:49,467062000+00:00 - rsyslog/run \n",
      "2022-02-28T23:17:49,522216500+00:00 - nginx/run \n",
      "2022-02-28T23:17:49,539705500+00:00 - gunicorn/run \n",
      "Dynamic Python package installation is disabled.\n",
      "Starting HTTP server\n",
      "EdgeHubConnectionString and IOTEDGE_IOTHUBHOSTNAME are not set. Exiting...\n",
      "2022-02-28T23:17:50,126935600+00:00 - iot-server/finish 1 0\n",
      "2022-02-28T23:17:50,128283800+00:00 - Exit code 1 is normal. Not restarting iot-server.\n",
      "Starting gunicorn 20.1.0\n",
      "Listening at: http://127.0.0.1:31311 (66)\n",
      "Using worker: sync\n",
      "worker timeout is set to 300\n",
      "Booting worker with pid: 90\n",
      "2022-02-28 23:17:52.152200: W tensorflow/stream_executor/platform/default/dso_loader.cc:64] Could not load dynamic library 'libcudart.so.11.0'; dlerror: libcudart.so.11.0: cannot open shared object file: No such file or directory; LD_LIBRARY_PATH: /azureml-envs/azureml_6d1e37acf0f20b727888d9dbb084e881/lib:/azureml-envs/azureml_6d1e37acf0f20b727888d9dbb084e881/lib:\n",
      "2022-02-28 23:17:52.187871: I tensorflow/stream_executor/cuda/cudart_stub.cc:29] Ignore above cudart dlerror if you do not have a GPU set up on your machine.\n",
      "SPARK_HOME not set. Skipping PySpark Initialization.\n",
      "Initializing logger\n",
      "2022-02-28 23:17:56,446 | root | INFO | Starting up app insights client\n",
      "logging socket was found. logging is available.\n",
      "logging socket was found. logging is available.\n",
      "2022-02-28 23:17:56,447 | root | INFO | Starting up request id generator\n",
      "2022-02-28 23:17:56,447 | root | INFO | Starting up app insight hooks\n",
      "2022-02-28 23:17:56,447 | root | INFO | Invoking user's init function\n",
      "2022-02-28 23:17:56.495683: W tensorflow/stream_executor/platform/default/dso_loader.cc:64] Could not load dynamic library 'libcuda.so.1'; dlerror: libcuda.so.1: cannot open shared object file: No such file or directory; LD_LIBRARY_PATH: /azureml-envs/azureml_6d1e37acf0f20b727888d9dbb084e881/lib:/azureml-envs/azureml_6d1e37acf0f20b727888d9dbb084e881/lib:\n",
      "2022-02-28 23:17:56.495980: W tensorflow/stream_executor/cuda/cuda_driver.cc:269] failed call to cuInit: UNKNOWN ERROR (303)\n",
      "2022-02-28 23:17:56.496055: I tensorflow/stream_executor/cuda/cuda_diagnostics.cc:156] kernel driver does not appear to be running on this host (SandboxHost-637816869351847257): /proc/driver/nvidia/version does not exist\n",
      "2022-02-28 23:17:56.496385: I tensorflow/core/platform/cpu_feature_guard.cc:142] This TensorFlow binary is optimized with oneAPI Deep Neural Network Library (oneDNN) to use the following CPU instructions in performance-critical operations:  AVX2 AVX512F FMA\n",
      "To enable them in other operations, rebuild TensorFlow with the appropriate compiler flags.\n",
      "2022-02-28 23:17:57,733 | root | INFO | Users's init has completed successfully\n",
      "2022-02-28 23:17:57,736 | root | INFO | Skipping middleware: dbg_model_info as it's not enabled.\n",
      "2022-02-28 23:17:57,736 | root | INFO | Skipping middleware: dbg_resource_usage as it's not enabled.\n",
      "2022-02-28 23:17:57,741 | root | INFO | Scoring timeout is found from os.environ: 60000 ms\n",
      "2022-02-28 23:18:11,703 | root | INFO | Swagger file not present\n",
      "2022-02-28 23:18:11,704 | root | INFO | 404\n",
      "127.0.0.1 - - [28/Feb/2022:23:18:11 +0000] \"GET /swagger.json HTTP/1.0\" 404 19 \"-\" \"Go-http-client/1.1\"\n",
      "2022-02-28 23:18:17,286 | root | INFO | Swagger file not present\n",
      "2022-02-28 23:18:17,287 | root | INFO | 404\n",
      "127.0.0.1 - - [28/Feb/2022:23:18:17 +0000] \"GET /swagger.json HTTP/1.0\" 404 19 \"-\" \"Go-http-client/1.1\"\n",
      "\n"
     ]
    }
   ],
   "source": [
    "print(service.get_logs())"
   ]
  },
  {
   "cell_type": "markdown",
   "id": "7c698cac",
   "metadata": {},
   "source": [
    "essai"
   ]
  },
  {
   "cell_type": "code",
   "execution_count": 10,
   "id": "0d3351bf",
   "metadata": {},
   "outputs": [
    {
     "name": "stdout",
     "output_type": "stream",
     "text": [
      "Status :  200\n",
      "Tweet :  I told you that she was not happy\n",
      "Label :  Négatif\n",
      "Score :  0.4459971487522125\n",
      "Temps :  1.0060954093933105\n"
     ]
    }
   ],
   "source": [
    "rest_endpoint = 'YOUR_REST_ENDPOINT_HERE'\n",
    "headers = {'Content-Type': 'application/json'}\n",
    "\n",
    "# Provide a text example\n",
    "data = json.dumps({'text': 'I told you that she was not happy'})\n",
    "\n",
    "# Call with POST request\n",
    "response = requests.post(rest_endpoint, data=data, headers=headers)\n",
    "\n",
    "# Print result\n",
    "print('Status : ', response.status_code)\n",
    "print('Tweet : ', (json.loads(data)).get('text'))\n",
    "print('Label : ', (response.json()).get('Label'))\n",
    "print('Score : ', (response.json()).get('Score'))\n",
    "print('Temps : ', (response.json()).get('Temps'))"
   ]
  },
  {
   "cell_type": "markdown",
   "id": "104914bc",
   "metadata": {},
   "source": [
    "arrêt des services"
   ]
  },
  {
   "cell_type": "code",
   "execution_count": 11,
   "id": "3e8c6c68",
   "metadata": {},
   "outputs": [],
   "source": [
    "service.delete()\n",
    "model.delete()"
   ]
  }
 ],
 "metadata": {
  "kernelspec": {
   "display_name": "Python 3 (ipykernel)",
   "language": "python",
   "name": "python3"
  },
  "language_info": {
   "codemirror_mode": {
    "name": "ipython",
    "version": 3
   },
   "file_extension": ".py",
   "mimetype": "text/x-python",
   "name": "python",
   "nbconvert_exporter": "python",
   "pygments_lexer": "ipython3",
   "version": "3.9.7"
  },
  "toc": {
   "base_numbering": 1,
   "nav_menu": {},
   "number_sections": true,
   "sideBar": true,
   "skip_h1_title": false,
   "title_cell": "Table of Contents",
   "title_sidebar": "Contents",
   "toc_cell": false,
   "toc_position": {},
   "toc_section_display": true,
   "toc_window_display": false
  }
 },
 "nbformat": 4,
 "nbformat_minor": 5
}
