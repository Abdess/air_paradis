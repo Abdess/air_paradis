{
 "cells": [
  {
   "cell_type": "markdown",
   "id": "73e0f483",
   "metadata": {
    "toc": true
   },
   "source": [
    "<h1>Table des matières<span class=\"tocSkip\"></span></h1>\n",
    "<div class=\"toc\"><ul class=\"toc-item\"></ul></div>"
   ]
  },
  {
   "cell_type": "markdown",
   "id": "0896f7d6",
   "metadata": {},
   "source": [
    "# Outil de détection de Bad Buzz grâce au Deep Learning\n",
    "\n",
    "![logo](data/image/logo.png \"Air Paradis\")\n",
    "\n",
    "**Air Paradis** souhaite un produit IA permettant d’anticiper les bad buzz sur les réseaux sociaux. Pour cela, nous allons concevoir un PoC d’un outil d’analyse émotionnel à l’aide d’un jeu de données de tweets.\n",
    "\n",
    "**Analyse des sentiments des tweets avec LSTM**\n",
    "\n",
    "L’analyse des sentiments est le processus d’interprétation et de classification des émotions dans les données textuelles. Ce domaine a acquis une grande importance dans l’analyse des médias sociaux, car il permet aux entreprises d’identifier les sentiments de leurs clients envers leurs marques et leurs services. Twitter étant l’un des réseaux sociaux les plus utilisés de nos jours, l’analyse des sentiments sur Twitter est devenue une tâche importante pour classer les tweets comme négatifs, neutres ou positifs."
   ]
  },
  {
   "cell_type": "markdown",
   "id": "8a62487f-c918-4b5c-b1af-600736cb7df6",
   "metadata": {
    "tags": []
   },
   "source": [
    "## Importation des bibliothèques\n",
    "\n",
    "<img src=\"data/image/computer.png\" width=\"150\">\n",
    "\n",
    "Tout d'abord, il est nécessaire d'importer toutes les bibliothèques. Certaines d'entre elles sont utilisées pour manipuler et prétraiter les données et d'autres pour construire et entraîner des modèles."
   ]
  },
  {
   "cell_type": "code",
   "execution_count": 1,
   "id": "e5bb90a7",
   "metadata": {},
   "outputs": [],
   "source": [
    "# Importation des modules nécessaires\n",
    "import matplotlib.pyplot as plt\n",
    "\n",
    "import numpy as np\n",
    "from numpy import asarray\n",
    "from numpy import zeros\n",
    "\n",
    "import pandas as pd\n",
    "import pickle\n",
    "import re\n",
    "\n",
    "from sklearn.model_selection import train_test_split\n",
    "from sklearn.preprocessing import LabelEncoder\n",
    "\n",
    "from keras.preprocessing.text import Tokenizer\n",
    "from keras.preprocessing.sequence import pad_sequences\n",
    "from keras.layers import Embedding, LSTM\n",
    "from keras.models import Sequential\n",
    "from keras.layers.core import Dense, Dropout\n",
    "from keras.callbacks import ReduceLROnPlateau\n",
    "from keras.models import load_model"
   ]
  },
  {
   "cell_type": "markdown",
   "id": "561477c7-d15f-4b32-82ef-a1c9fc267476",
   "metadata": {},
   "source": [
    "## Jeu de données\n",
    "\n",
    "<img src=\"data/image/database.png\" width=\"150\">\n",
    "\n",
    "Le jeu de données utilisé dans ce projet a été obtenu de Sentiment140 et il contient 1,6 million de tweets en anglais sans émoticônes. Il est important de mentionner que les polarités dans ce jeu de données de tweets ne comprennent que des étiquettes négatives et positives, ce projet est donc attaché à cette classification binaire.\n",
    "\n",
    "Le jeu de données peut être téléchargé à l'adresse suivante : https://www.kaggle.com/kazanova/sentiment140."
   ]
  },
  {
   "cell_type": "code",
   "execution_count": 2,
   "id": "76ffa927-4c38-403a-9a90-b1f006184585",
   "metadata": {},
   "outputs": [
    {
     "data": {
      "text/html": [
       "<div>\n",
       "<style scoped>\n",
       "    .dataframe tbody tr th:only-of-type {\n",
       "        vertical-align: middle;\n",
       "    }\n",
       "\n",
       "    .dataframe tbody tr th {\n",
       "        vertical-align: top;\n",
       "    }\n",
       "\n",
       "    .dataframe thead th {\n",
       "        text-align: right;\n",
       "    }\n",
       "</style>\n",
       "<table border=\"1\" class=\"dataframe\">\n",
       "  <thead>\n",
       "    <tr style=\"text-align: right;\">\n",
       "      <th></th>\n",
       "      <th>0</th>\n",
       "      <th>1</th>\n",
       "      <th>2</th>\n",
       "      <th>3</th>\n",
       "      <th>4</th>\n",
       "      <th>5</th>\n",
       "    </tr>\n",
       "  </thead>\n",
       "  <tbody>\n",
       "    <tr>\n",
       "      <th>0</th>\n",
       "      <td>0</td>\n",
       "      <td>1467810369</td>\n",
       "      <td>Mon Apr 06 22:19:45 PDT 2009</td>\n",
       "      <td>NO_QUERY</td>\n",
       "      <td>_TheSpecialOne_</td>\n",
       "      <td>@switchfoot http://twitpic.com/2y1zl - Awww, t...</td>\n",
       "    </tr>\n",
       "    <tr>\n",
       "      <th>1</th>\n",
       "      <td>0</td>\n",
       "      <td>1467810672</td>\n",
       "      <td>Mon Apr 06 22:19:49 PDT 2009</td>\n",
       "      <td>NO_QUERY</td>\n",
       "      <td>scotthamilton</td>\n",
       "      <td>is upset that he can't update his Facebook by ...</td>\n",
       "    </tr>\n",
       "    <tr>\n",
       "      <th>2</th>\n",
       "      <td>0</td>\n",
       "      <td>1467810917</td>\n",
       "      <td>Mon Apr 06 22:19:53 PDT 2009</td>\n",
       "      <td>NO_QUERY</td>\n",
       "      <td>mattycus</td>\n",
       "      <td>@Kenichan I dived many times for the ball. Man...</td>\n",
       "    </tr>\n",
       "    <tr>\n",
       "      <th>3</th>\n",
       "      <td>0</td>\n",
       "      <td>1467811184</td>\n",
       "      <td>Mon Apr 06 22:19:57 PDT 2009</td>\n",
       "      <td>NO_QUERY</td>\n",
       "      <td>ElleCTF</td>\n",
       "      <td>my whole body feels itchy and like its on fire</td>\n",
       "    </tr>\n",
       "    <tr>\n",
       "      <th>4</th>\n",
       "      <td>0</td>\n",
       "      <td>1467811193</td>\n",
       "      <td>Mon Apr 06 22:19:57 PDT 2009</td>\n",
       "      <td>NO_QUERY</td>\n",
       "      <td>Karoli</td>\n",
       "      <td>@nationwideclass no, it's not behaving at all....</td>\n",
       "    </tr>\n",
       "  </tbody>\n",
       "</table>\n",
       "</div>"
      ],
      "text/plain": [
       "   0           1                             2         3                4  \\\n",
       "0  0  1467810369  Mon Apr 06 22:19:45 PDT 2009  NO_QUERY  _TheSpecialOne_   \n",
       "1  0  1467810672  Mon Apr 06 22:19:49 PDT 2009  NO_QUERY    scotthamilton   \n",
       "2  0  1467810917  Mon Apr 06 22:19:53 PDT 2009  NO_QUERY         mattycus   \n",
       "3  0  1467811184  Mon Apr 06 22:19:57 PDT 2009  NO_QUERY          ElleCTF   \n",
       "4  0  1467811193  Mon Apr 06 22:19:57 PDT 2009  NO_QUERY           Karoli   \n",
       "\n",
       "                                                   5  \n",
       "0  @switchfoot http://twitpic.com/2y1zl - Awww, t...  \n",
       "1  is upset that he can't update his Facebook by ...  \n",
       "2  @Kenichan I dived many times for the ball. Man...  \n",
       "3    my whole body feels itchy and like its on fire   \n",
       "4  @nationwideclass no, it's not behaving at all....  "
      ]
     },
     "execution_count": 2,
     "metadata": {},
     "output_type": "execute_result"
    }
   ],
   "source": [
    "# Chargement des données\n",
    "df = pd.read_csv(\"data/raw/training.1600000.processed.noemoticon.csv\", encoding = 'latin', header = None)\n",
    "\n",
    "# Voir les cinq premières lignes de données (pour vérifier si tout va bien)\n",
    "df.head()"
   ]
  },
  {
   "cell_type": "markdown",
   "id": "8eea512e-9886-40bc-92e7-562ec0320895",
   "metadata": {},
   "source": [
    "Comme nous n'avons pas besoin des six champs du jeu de données, nous allons retirer les colonnes dont nous n'avons pas besoin dans cette tâche de classification."
   ]
  },
  {
   "cell_type": "code",
   "execution_count": 3,
   "id": "ee520dda-e95e-4c8f-9f2d-d10fbc4a1508",
   "metadata": {},
   "outputs": [
    {
     "data": {
      "text/html": [
       "<div>\n",
       "<style scoped>\n",
       "    .dataframe tbody tr th:only-of-type {\n",
       "        vertical-align: middle;\n",
       "    }\n",
       "\n",
       "    .dataframe tbody tr th {\n",
       "        vertical-align: top;\n",
       "    }\n",
       "\n",
       "    .dataframe thead th {\n",
       "        text-align: right;\n",
       "    }\n",
       "</style>\n",
       "<table border=\"1\" class=\"dataframe\">\n",
       "  <thead>\n",
       "    <tr style=\"text-align: right;\">\n",
       "      <th></th>\n",
       "      <th>0</th>\n",
       "      <th>5</th>\n",
       "    </tr>\n",
       "  </thead>\n",
       "  <tbody>\n",
       "    <tr>\n",
       "      <th>0</th>\n",
       "      <td>0</td>\n",
       "      <td>@switchfoot http://twitpic.com/2y1zl - Awww, t...</td>\n",
       "    </tr>\n",
       "    <tr>\n",
       "      <th>1</th>\n",
       "      <td>0</td>\n",
       "      <td>is upset that he can't update his Facebook by ...</td>\n",
       "    </tr>\n",
       "    <tr>\n",
       "      <th>2</th>\n",
       "      <td>0</td>\n",
       "      <td>@Kenichan I dived many times for the ball. Man...</td>\n",
       "    </tr>\n",
       "    <tr>\n",
       "      <th>3</th>\n",
       "      <td>0</td>\n",
       "      <td>my whole body feels itchy and like its on fire</td>\n",
       "    </tr>\n",
       "    <tr>\n",
       "      <th>4</th>\n",
       "      <td>0</td>\n",
       "      <td>@nationwideclass no, it's not behaving at all....</td>\n",
       "    </tr>\n",
       "  </tbody>\n",
       "</table>\n",
       "</div>"
      ],
      "text/plain": [
       "   0                                                  5\n",
       "0  0  @switchfoot http://twitpic.com/2y1zl - Awww, t...\n",
       "1  0  is upset that he can't update his Facebook by ...\n",
       "2  0  @Kenichan I dived many times for the ball. Man...\n",
       "3  0    my whole body feels itchy and like its on fire \n",
       "4  0  @nationwideclass no, it's not behaving at all...."
      ]
     },
     "execution_count": 3,
     "metadata": {},
     "output_type": "execute_result"
    }
   ],
   "source": [
    "# suppression des colonnes inutiles\n",
    "df = df.drop([1, 2, 3, 4], axis = 1)\n",
    "# afficher les cinq premières lignes de données (pour vérifier à nouveau)\n",
    "df.head()"
   ]
  },
  {
   "cell_type": "code",
   "execution_count": 4,
   "id": "ddf2af45-2e09-41fc-a5bc-833a0e772cf7",
   "metadata": {},
   "outputs": [
    {
     "data": {
      "text/html": [
       "<div>\n",
       "<style scoped>\n",
       "    .dataframe tbody tr th:only-of-type {\n",
       "        vertical-align: middle;\n",
       "    }\n",
       "\n",
       "    .dataframe tbody tr th {\n",
       "        vertical-align: top;\n",
       "    }\n",
       "\n",
       "    .dataframe thead th {\n",
       "        text-align: right;\n",
       "    }\n",
       "</style>\n",
       "<table border=\"1\" class=\"dataframe\">\n",
       "  <thead>\n",
       "    <tr style=\"text-align: right;\">\n",
       "      <th></th>\n",
       "      <th>target</th>\n",
       "      <th>text</th>\n",
       "    </tr>\n",
       "  </thead>\n",
       "  <tbody>\n",
       "    <tr>\n",
       "      <th>0</th>\n",
       "      <td>0</td>\n",
       "      <td>@switchfoot http://twitpic.com/2y1zl - Awww, t...</td>\n",
       "    </tr>\n",
       "    <tr>\n",
       "      <th>1</th>\n",
       "      <td>0</td>\n",
       "      <td>is upset that he can't update his Facebook by ...</td>\n",
       "    </tr>\n",
       "    <tr>\n",
       "      <th>2</th>\n",
       "      <td>0</td>\n",
       "      <td>@Kenichan I dived many times for the ball. Man...</td>\n",
       "    </tr>\n",
       "    <tr>\n",
       "      <th>3</th>\n",
       "      <td>0</td>\n",
       "      <td>my whole body feels itchy and like its on fire</td>\n",
       "    </tr>\n",
       "    <tr>\n",
       "      <th>4</th>\n",
       "      <td>0</td>\n",
       "      <td>@nationwideclass no, it's not behaving at all....</td>\n",
       "    </tr>\n",
       "  </tbody>\n",
       "</table>\n",
       "</div>"
      ],
      "text/plain": [
       "   target                                               text\n",
       "0       0  @switchfoot http://twitpic.com/2y1zl - Awww, t...\n",
       "1       0  is upset that he can't update his Facebook by ...\n",
       "2       0  @Kenichan I dived many times for the ball. Man...\n",
       "3       0    my whole body feels itchy and like its on fire \n",
       "4       0  @nationwideclass no, it's not behaving at all...."
      ]
     },
     "execution_count": 4,
     "metadata": {},
     "output_type": "execute_result"
    }
   ],
   "source": [
    "# changement du nom des colonnes pour faciliter la compréhension.\n",
    "df.columns = ['target', 'text']\n",
    "# afficher les cinq premières lignes des données (avec des intitulés appropriés)\n",
    "df.head()"
   ]
  },
  {
   "cell_type": "markdown",
   "id": "d9f3eb88-384f-4e50-b310-e3e61be0d6d2",
   "metadata": {},
   "source": [
    "Il est toujours important de regarder la distribution du jeu de données. Ainsi, l'appel de la fonction suivante permet de voir si nous avons une quantité égale de tweets pour chaque classe."
   ]
  },
  {
   "cell_type": "code",
   "execution_count": 5,
   "id": "07eecfea-1e75-4872-9329-496393c4e47d",
   "metadata": {},
   "outputs": [
    {
     "data": {
      "text/plain": [
       "0    800000\n",
       "4    800000\n",
       "Name: target, dtype: int64"
      ]
     },
     "execution_count": 5,
     "metadata": {},
     "output_type": "execute_result"
    }
   ],
   "source": [
    "# compte le nombre de chaque classe dans le jeu de données.\n",
    "df.target.value_counts()"
   ]
  },
  {
   "cell_type": "markdown",
   "id": "387f91e6-323f-4b9b-a6d8-5b36d7cee501",
   "metadata": {},
   "source": [
    "## Prétraitement des données\n",
    "\n",
    "<img src=\"data/image/server.png\" width=\"150\">\n",
    "\n",
    "Il est difficile d'entraîner un classificateur à partir de tweets en raison de la différence de longueur et de l'utilisation d'émoticônes, de noms d'utilisateur et de liens dans le texte. C'est pourquoi les données doivent être prétraitées et nettoyées avant l'étape suivante.\n",
    "\n",
    "Comme le jeu de données de ce projet ne contient déjà pas d'émoticônes, la partie nettoyage se concentre simplement sur la conversion de chaque texte de tweet en minuscules et sur la suppression des liens et des noms d'utilisateur.\n",
    "En outre, il y a une procédure auquel nous devons faire attention, nous pouvons penser que comme les mots vides (stop words) (ex.: the, a, of, ...) sont très couramment utilisés en anglais et qu'ils n'ont aucune signification contextuelle, ils doivent également être supprimés afin d'éviter un biais causé par eux lors de l'apprentissage. En revanche, pour l'analyse des sentiments, il est préférable de conserver tous les mots. Cependant, même pour l'analyse des sentiments, nous devons fixer la longueur minimale des mots.\n",
    "\n",
    "Un exemple pourrait être la phrase suivante : “I told you that she was not happy” (\"Je vous ai dit qu'elle n'était pas heureuse\"). Si nous supprimons les stopwords cela donnerai [‘told’, ‘happy’] (['dit', 'heureuse']) qui sera detecter comme un sentiment positif.\n",
    "\n",
    "Pour plus d'infos : https://medium.com/@limavallantin/why-is-removing-stop-words-not-always-a-good-idea-c8d35bd77214"
   ]
  },
  {
   "cell_type": "markdown",
   "id": "1df720f9-71fe-4e10-8a9d-a3bc34d0f865",
   "metadata": {},
   "source": [
    "Il ne nous est pas necessaire de travailler sur l'ensemble des données, nous allons donc réduire à un échantillons suffisant avant de commencer le nettoyage."
   ]
  },
  {
   "cell_type": "code",
   "execution_count": 6,
   "id": "f4dfb34f-7f11-4ef8-bdaf-03bcd4cbbb37",
   "metadata": {},
   "outputs": [
    {
     "data": {
      "text/plain": [
       "0    800\n",
       "4    800\n",
       "Name: target, dtype: int64"
      ]
     },
     "execution_count": 6,
     "metadata": {},
     "output_type": "execute_result"
    }
   ],
   "source": [
    "# Chargement d'un échantillon des données\n",
    "df_sample = df.groupby('target').apply(lambda x: x.sample(n=800,\n",
    "                                                             random_state=42))\n",
    "df_sample.reset_index(drop=True, inplace=True)\n",
    "# compte le nombre de chaque classe dans le jeu de données.\n",
    "df_sample.target.value_counts()"
   ]
  },
  {
   "cell_type": "code",
   "execution_count": 7,
   "id": "699757c5-26ed-4a3b-9f06-10be53866611",
   "metadata": {},
   "outputs": [],
   "source": [
    "# nettoyer le texte pour enlever les utilisateurs, les liens et les stopwords pour ensuite le diviser en tokens\n",
    "def clean_text(tweet, stopwords=False):\n",
    "    tweet_cleaning_re = \"@\\S+|https?:\\S+|http?:\\S|[^A-Za-z0-9]+\"\n",
    "    tweet = re.sub(tweet_cleaning_re, ' ', str(tweet).lower()).strip()\n",
    "    \n",
    "    tokens = tweet.split()\n",
    "    \n",
    "    if stopwords is False:\n",
    "        tokens = [w for w in tokens]\n",
    "    else:\n",
    "        stop_words = set(stopwords.words('english'))\n",
    "        tokens = [w for w in tokens if w not in stop_words]\n",
    "    \n",
    "    return \" \".join(tokens)"
   ]
  },
  {
   "cell_type": "code",
   "execution_count": 8,
   "id": "e52fd3d6-5b5d-469d-bbc9-9c24bfe8d402",
   "metadata": {},
   "outputs": [
    {
     "data": {
      "text/html": [
       "<div>\n",
       "<style scoped>\n",
       "    .dataframe tbody tr th:only-of-type {\n",
       "        vertical-align: middle;\n",
       "    }\n",
       "\n",
       "    .dataframe tbody tr th {\n",
       "        vertical-align: top;\n",
       "    }\n",
       "\n",
       "    .dataframe thead th {\n",
       "        text-align: right;\n",
       "    }\n",
       "</style>\n",
       "<table border=\"1\" class=\"dataframe\">\n",
       "  <thead>\n",
       "    <tr style=\"text-align: right;\">\n",
       "      <th></th>\n",
       "      <th>target</th>\n",
       "      <th>text</th>\n",
       "    </tr>\n",
       "  </thead>\n",
       "  <tbody>\n",
       "    <tr>\n",
       "      <th>0</th>\n",
       "      <td>0</td>\n",
       "      <td>oh no where did u order from that s horrible</td>\n",
       "    </tr>\n",
       "    <tr>\n",
       "      <th>1</th>\n",
       "      <td>0</td>\n",
       "      <td>a great hard training weekend is over a couple...</td>\n",
       "    </tr>\n",
       "    <tr>\n",
       "      <th>2</th>\n",
       "      <td>0</td>\n",
       "      <td>right off to work only 5 hours to go until i m...</td>\n",
       "    </tr>\n",
       "    <tr>\n",
       "      <th>3</th>\n",
       "      <td>0</td>\n",
       "      <td>i am craving for japanese food</td>\n",
       "    </tr>\n",
       "    <tr>\n",
       "      <th>4</th>\n",
       "      <td>0</td>\n",
       "      <td>jean michel jarre concert tomorrow gotta work ...</td>\n",
       "    </tr>\n",
       "  </tbody>\n",
       "</table>\n",
       "</div>"
      ],
      "text/plain": [
       "   target                                               text\n",
       "0       0       oh no where did u order from that s horrible\n",
       "1       0  a great hard training weekend is over a couple...\n",
       "2       0  right off to work only 5 hours to go until i m...\n",
       "3       0                     i am craving for japanese food\n",
       "4       0  jean michel jarre concert tomorrow gotta work ..."
      ]
     },
     "execution_count": 8,
     "metadata": {},
     "output_type": "execute_result"
    }
   ],
   "source": [
    "# appliquer la fonction clean_text dans nos données\n",
    "df_sample.text = df_sample.text.apply(lambda x: clean_text(x))\n",
    "# afficher les cinq premières lignes de données (pour vérifier à nouveau)\n",
    "df_sample.head()"
   ]
  },
  {
   "cell_type": "markdown",
   "id": "6b3c41c1-2a90-4120-b1ad-a8565e13be61",
   "metadata": {},
   "source": [
    "La division des données est fixée à 80 % pour l'ensemble de données d'apprentissage et à 20 % pour l'ensemble de données de test. Comme les fonctions train_test_split rendent les données aléatoires, le paramètre stratify est défini de manière à avoir la même quantité de classes positives et négatives dans chaque ensemble de données.\n",
    "\n",
    "TODO : Validation set (70/10/10)"
   ]
  },
  {
   "cell_type": "code",
   "execution_count": 9,
   "id": "0e235a07-320d-44be-8da3-6ee012a49de0",
   "metadata": {},
   "outputs": [
    {
     "name": "stdout",
     "output_type": "stream",
     "text": [
      "Taille des données d'entraînement :  1280\n",
      "Taille des données de test :  320\n",
      "Distribution des données d'entraînement :\n",
      " 4    640\n",
      "0    640\n",
      "Name: target, dtype: int64\n",
      "Distribution des données de test :\n",
      " 4    160\n",
      "0    160\n",
      "Name: target, dtype: int64\n"
     ]
    }
   ],
   "source": [
    "# 80% pour nos données à entraîner\n",
    "train_size = 0.8\n",
    "\n",
    "# diviser nos données en un ensemble d'entraînement (80%) et un ensemble de test (20%).\n",
    "train_data, test_data = train_test_split(df_sample, test_size = 1 - train_size, random_state = 0, stratify = df_sample.target)\n",
    "\n",
    "# length of each set\n",
    "print(\"Taille des données d'entraînement : \", len(train_data))\n",
    "print(\"Taille des données de test : \", len(test_data))\n",
    "\n",
    "# Combien d'exemples de chaque classe il y a dans chaque ensemble.\n",
    "print(\"Distribution des données d'entraînement :\\n\", train_data.target.value_counts())\n",
    "print(\"Distribution des données de test :\\n\", test_data.target.value_counts())"
   ]
  },
  {
   "cell_type": "markdown",
   "id": "35950784-a607-4009-94f2-29693996adeb",
   "metadata": {},
   "source": [
    "Comme les étiquettes de chaque tweet dans le jeu de données sont annotées comme 0 pour négatif et 4 pour positif, un encodeur d'étiquettes (label encoder) est utilisé pour transformer les étiquettes en 0 pour négatif et 1 pour positif. Afin de conserver un modèle de classification binaire commun."
   ]
  },
  {
   "cell_type": "code",
   "execution_count": 10,
   "id": "74ce56e8-f359-48ee-bffb-d19ad2662aee",
   "metadata": {},
   "outputs": [],
   "source": [
    "# créer un label encoder\n",
    "encoder = LabelEncoder()\n",
    "# enconde les étiquettes (0 ou 1) dans les données d'entraînement\n",
    "encoder.fit(train_data.target.to_list())\n",
    "\n",
    "# transformer les étiquettes des données y_train et y_test en étiquettes encodées\n",
    "y_train = encoder.transform(train_data.target.to_list())\n",
    "y_test = encoder.transform(test_data.target.to_list())\n",
    "\n",
    "# remodeler les données y_train et y_test\n",
    "y_train = y_train.reshape(-1, 1)\n",
    "y_test = y_test.reshape(-1, 1)"
   ]
  },
  {
   "cell_type": "markdown",
   "id": "8c3dd96b-f903-48fb-8729-e7cb88db387f",
   "metadata": {},
   "source": [
    "## Tokenisation\n",
    "\n",
    "<img src=\"data/image/text-box.png\" width=\"150\">\n",
    "\n",
    "À ce stade, les tweets sont encore des phrases normales avec de la ponctuation. Le processus de tokenisation transforme cette séquence de caractères en tokens. Cela signifie qu'il faut \"découper\" les phrases en morceaux, convertir chaque mot en un index et éliminer les caractères de ponctuation.\n",
    "\n",
    "La fonction fit_on_texts met à jour le vocabulaire du tokenizer en fonction des textes des données d'entraînement."
   ]
  },
  {
   "cell_type": "code",
   "execution_count": 11,
   "id": "703ffa89-aef9-4fec-b713-a34f9a346bd5",
   "metadata": {},
   "outputs": [],
   "source": [
    "# créer un tokeniseur\n",
    "tokenizer = Tokenizer()\n",
    "# ajuster le tokeniseur dans le texte d'entraînement\n",
    "tokenizer.fit_on_texts(train_data.text)"
   ]
  },
  {
   "cell_type": "markdown",
   "id": "8fa5c625-520a-4181-abef-b7285ad7a0d2",
   "metadata": {},
   "source": [
    "L'enregistrement du tokéniseur est une bonne pratique. Si nous disposons d'un fichier distinct pour tester le modèle une fois formé, nous n'aurons pas besoin de créer à nouveau le tokenizer."
   ]
  },
  {
   "cell_type": "code",
   "execution_count": 12,
   "id": "f64d8790-4bec-4508-95ed-40a7940e1ac3",
   "metadata": {},
   "outputs": [],
   "source": [
    "# Sauvegarde du tokeniseur.\n",
    "with open('data/clean/tokenizer.pickle', 'wb') as handle:\n",
    "    pickle.dump(tokenizer, handle, protocol = pickle.HIGHEST_PROTOCOL)"
   ]
  },
  {
   "cell_type": "markdown",
   "id": "9f2593f4-e015-4871-b439-ad850633c8a9",
   "metadata": {},
   "source": [
    "En outre, comme les tweets peuvent avoir des longueurs différentes et que le modèle LSTM a besoin d'entrées de même longueur, une fonction de remplissage est utilisée pour garantir la même longueur dans tous les textes d'entrée. Dans ce cas, la longueur maximale de l'ensemble de données d'entraînement est utilisée pour \"rembourrer\" toutes les séquences de texte, à la fois dans les ensembles de données d'entraînement et de test."
   ]
  },
  {
   "cell_type": "code",
   "execution_count": 13,
   "id": "cb6d5e0f-29d0-4b68-9644-e9443342d801",
   "metadata": {},
   "outputs": [],
   "source": [
    "# obtenir la longueur maximale des données du train\n",
    "max_length = max([len(s.split()) for s in train_data.text])\n",
    "\n",
    "# rembourrer les séquences dans l'ensemble de données x_train à la longueur maximale\n",
    "x_train = pad_sequences(tokenizer.texts_to_sequences(train_data.text),\n",
    "                        maxlen = max_length)\n",
    "# rembourrer les séquences dans l'ensemble de données x_test à la longueur maximale\n",
    "x_test = pad_sequences(tokenizer.texts_to_sequences(test_data.text),\n",
    "                       maxlen = max_length)"
   ]
  },
  {
   "cell_type": "markdown",
   "id": "53c0eb47-f35a-4587-9077-15d720468596",
   "metadata": {},
   "source": [
    "Après le rembourrage des tweets, la forme des jeux de données x_train et x_test doit avoir la même longueur (35 mots)."
   ]
  },
  {
   "cell_type": "code",
   "execution_count": 14,
   "id": "0bfdb59e-be6c-4210-b5b5-ca29be0839c0",
   "metadata": {},
   "outputs": [
    {
     "name": "stdout",
     "output_type": "stream",
     "text": [
      "Dimension du x_train :  (1280, 35)\n",
      "Dimension du x_test :  (320, 35)\n",
      "Dimension du y_train shape :  (1280, 1)\n",
      "Dimension du y_test shape :  (320, 1)\n"
     ]
    }
   ],
   "source": [
    "print(\"Dimension du x_train : \", x_train.shape)\n",
    "print(\"Dimension du x_test : \", x_test.shape)\n",
    "\n",
    "print(\"Dimension du y_train shape : \", y_train.shape)\n",
    "print(\"Dimension du y_test shape : \", y_test.shape)"
   ]
  },
  {
   "cell_type": "markdown",
   "id": "35e70d67-b64a-4ddd-9f6d-125c5af06e28",
   "metadata": {},
   "source": [
    "## Plongement de mot (Word Embedding)\n",
    "\n",
    "<img src=\"data/image/transparency.png\" width=\"150\">\n",
    "\n",
    "Un plongement de mots est une représentation du vocabulaire d'un texte, où les mots qui ont une signification similaire ont des représentations similaires. Cela permet de capturer le contexte et la sémantique d'un mot en relation avec d'autres mots.\n",
    "\n",
    "Il existe des incorporations de mots pré-entraînées qui peuvent être utilisées pour éviter de former une incorporation à partir de zéro. Ce projet utilise l'incorporation pré-entraînée de Twitter GloVe avec 27 milliards de tokens et 200d vecteurs.\n",
    "\n",
    "L'embedding utilisé peut être téléchargé sur le site de GloVe : https://nlp.stanford.edu/projects/glove/. L'embedding nécessaire est celui qui a été formé avec des tweets. Le fichier s'appelle glove.twitter.27B.zip. Une fois téléchargé et décompressé, il devrait contenir quatre fichiers .txt. Chacun d'entre eux a une dimension différente. Celui utilisé dans ce projet est le fichier glove.twitter.27B.200d.txt.\n",
    "\n",
    "TODO : Déterminer le meilleur embedding rapport efficacité/coût à utiliser\n",
    "\n",
    "Les fonctions suivantes sont tirées d'un tutoriel de Jason Brownlee disponible à l'adresse suivante : https://machinelearningmastery.com/develop-word-embedding-model-predicting-movie-review-sentiment/ (\"5. Use Pre-trained Embedding\").\n",
    "\n",
    "Ces fonctions chargent le fichier d'intégration téléchargé et créent la matrice de poids qui est nécessaire pour créer la couche d'intégration dans le modèle."
   ]
  },
  {
   "cell_type": "code",
   "execution_count": 15,
   "id": "dd290a25-fc3c-4c18-932f-11b647eb6821",
   "metadata": {},
   "outputs": [],
   "source": [
    "# load embedding as a dict\n",
    "def load_embedding(filename):\n",
    "    # load embedding into memory, skip first line\n",
    "    file = open(filename,'r',encoding=\"utf-8\")\n",
    "    lines = file.readlines()\n",
    "    file.close()\n",
    "    # create a map of words to vectors\n",
    "    embedding = dict()\n",
    "    for line in lines:\n",
    "        parts = line.split()\n",
    "        # key is string word, value is numpy array for vector\n",
    "        embedding[parts[0]] = asarray(parts[1:], dtype='float32')\n",
    "    return embedding\n",
    "\n",
    "# create a weight matrix for the Embedding layer from a loaded embedding\n",
    "def get_weight_matrix(embedding, vocab):\n",
    "    # total vocabulary size plus 0 for unknown words\n",
    "    vocab_size = len(vocab) + 1\n",
    "    # define weight matrix dimensions with all 0\n",
    "    weight_matrix = zeros((vocab_size, embedding_dim))\n",
    "    # step vocab, store vectors using the Tokenizer's integer mapping\n",
    "    for word, i in vocab.items():\n",
    "        vector = embedding.get(word)\n",
    "        if vector is not None:\n",
    "            weight_matrix[i] = vector\n",
    "    return weight_matrix"
   ]
  },
  {
   "cell_type": "markdown",
   "id": "5bd37c5c-00a2-432e-8f9e-f55d8218fb3b",
   "metadata": {},
   "source": [
    "Ce code chargera le fichier pré-entraîné de GloVe et créera les représentations appropriées dont nous avons besoin pour le vocabulaire créé précédemment avec le tokéniseur."
   ]
  },
  {
   "cell_type": "code",
   "execution_count": 16,
   "id": "abc23f58-a37c-4fda-b010-a175e2b077d9",
   "metadata": {},
   "outputs": [
    {
     "name": "stdout",
     "output_type": "stream",
     "text": [
      "Taille du vocabulaire :  3747\n",
      "Longueur maximale :  35\n"
     ]
    }
   ],
   "source": [
    "# contient l'index de chaque mot\n",
    "vocab = tokenizer.word_index\n",
    "# le nombre total de mots de notre vocabulaire, plus un pour les mots inconnus\n",
    "vocab_size = len(tokenizer.word_index) + 1\n",
    "# dimensions du plongement\n",
    "embedding_dim = 200\n",
    "\n",
    "print(\"Taille du vocabulaire : \", vocab_size)\n",
    "print(\"Longueur maximale : \", max_length)\n",
    "\n",
    "# charger le plongement depuis le fichier\n",
    "raw_embedding = load_embedding('data/glove/glove.twitter.27B.200d.txt')\n",
    "# obtenir les vecteurs dans le bon ordre\n",
    "embedding_matrix = get_weight_matrix(raw_embedding, vocab)"
   ]
  },
  {
   "cell_type": "markdown",
   "id": "95f8e4be-53c3-4dd6-96cd-5c506cb7f624",
   "metadata": {},
   "source": [
    "La couche d'incorporation transforme les séquences d'entrée en vecteurs denses. Pour configurer cette couche, la taille du vocabulaire a été fixée à 3747, la dimension d'intégration à 200 (car les 200d vecteurs de GloVe ont été utilisés) et la longueur d'entrée à 35."
   ]
  },
  {
   "cell_type": "code",
   "execution_count": 17,
   "id": "68466527-dda3-4fbf-9836-a48ba38ff38c",
   "metadata": {},
   "outputs": [],
   "source": [
    "# créer la couche de plongement\n",
    "embedding_layer = Embedding(vocab_size, \n",
    "                            embedding_dim, \n",
    "                            weights = [embedding_matrix], \n",
    "                            input_length = max_length, \n",
    "                            trainable = False)"
   ]
  },
  {
   "cell_type": "markdown",
   "id": "738bff57-188d-4f56-9442-b6bdad76fc6f",
   "metadata": {},
   "source": [
    "## Entraînement du modèle\n",
    "\n",
    "<img src=\"data/image/machine-learning.png\" width=\"150\">\n",
    "\n",
    "L'architecture du modèle que nous allons utiliser consiste en un modèle séquentiel avec des couches d'intégration, de suppression, de LSTM et de densité. La première couche est la couche d'intégration. Ensuite, une couche d'exclusion a été utilisée pour éviter le sur-apprentissage. Le taux pour cette couche a été fixé à 0,2.\n",
    "\n",
    "La couche suivante est la couche LSTM, qui fonctionne avec un mécanisme connu sous le nom d'états cellulaires qui lui permet d'apprendre le contexte des mots en oubliant et en se souvenant sélectivement des choses. La configuration pour cette couche était de 200 unités et un taux d'abandon de 0,2.\n",
    "\n",
    "Enfin, deux couches denses sont ajoutées à la dernière partie du modèle. Ces couches nous permettent de connecter complètement les unités et nous conduisent au résultat final de la classification. La première couche dense est configurée à 64 unités avec ReLU comme fonction d'activation. La deuxième couche dense, et dernière du modèle, est configurée avec 1 unité et une fonction sigmoïde afin d'obtenir un résultat de classification binaire (0 ou 1).\n",
    "\n",
    "Le modèle utilise Adam comme algorithme d'optimisation, l'entropie croisée binaire comme fonction de perte et la précision pour mesurer la performance du modèle."
   ]
  },
  {
   "cell_type": "code",
   "execution_count": 18,
   "id": "dbf70384-2e79-4481-b8e9-e00f7ea0c44e",
   "metadata": {},
   "outputs": [
    {
     "name": "stdout",
     "output_type": "stream",
     "text": [
      "Model: \"sequential\"\n",
      "_________________________________________________________________\n",
      " Layer (type)                Output Shape              Param #   \n",
      "=================================================================\n",
      " embedding (Embedding)       (None, 35, 200)           749400    \n",
      "                                                                 \n",
      " dropout (Dropout)           (None, 35, 200)           0         \n",
      "                                                                 \n",
      " lstm (LSTM)                 (None, 200)               320800    \n",
      "                                                                 \n",
      " dense (Dense)               (None, 64)                12864     \n",
      "                                                                 \n",
      " dense_1 (Dense)             (None, 1)                 65        \n",
      "                                                                 \n",
      "=================================================================\n",
      "Total params: 1,083,129\n",
      "Trainable params: 333,729\n",
      "Non-trainable params: 749,400\n",
      "_________________________________________________________________\n",
      "None\n"
     ]
    }
   ],
   "source": [
    "# définition du modèle\n",
    "model = Sequential()\n",
    "model.add(embedding_layer)\n",
    "model.add(Dropout(0.2))\n",
    "model.add(LSTM(200, dropout = 0.2))\n",
    "model.add(Dense(64, activation='relu'))\n",
    "model.add(Dense(1, activation = \"sigmoid\"))\n",
    "\n",
    "print(model.summary())\n",
    "\n",
    "model.compile(optimizer = \"adam\", loss = 'binary_crossentropy', metrics = ['accuracy'])"
   ]
  },
  {
   "cell_type": "markdown",
   "id": "42bbf0c8-b78c-487b-8a1b-bf4f109abaa5",
   "metadata": {},
   "source": [
    "Pour améliorer les performances du modèle pendant le processus d'apprentissage, la fonction de rappel ReduceLROnPlateau est utilisée pour réduire le taux d'apprentissage d'un facteur de 0,1 lorsque la perte de validation a cessé de s'améliorer.\n",
    "\n",
    "Le modèle a été entraîné pendant 15 époques, avec une taille de lot de 1024 et une division de validation de 0,1."
   ]
  },
  {
   "cell_type": "code",
   "execution_count": 19,
   "id": "4beb6736-e258-4906-83f6-de7de65e066f",
   "metadata": {},
   "outputs": [
    {
     "name": "stdout",
     "output_type": "stream",
     "text": [
      "Epoch 1/15\n",
      "2/2 [==============================] - 9s 721ms/step - loss: 0.6985 - accuracy: 0.4766 - val_loss: 0.6602 - val_accuracy: 0.6562 - lr: 0.0010\n",
      "Epoch 2/15\n",
      "2/2 [==============================] - 0s 54ms/step - loss: 0.6734 - accuracy: 0.6059 - val_loss: 0.7017 - val_accuracy: 0.4766 - lr: 0.0010\n",
      "Epoch 3/15\n",
      "2/2 [==============================] - 0s 66ms/step - loss: 0.6738 - accuracy: 0.5451 - val_loss: 0.6878 - val_accuracy: 0.4688 - lr: 0.0010\n",
      "Epoch 4/15\n",
      "2/2 [==============================] - 0s 41ms/step - loss: 0.6586 - accuracy: 0.5851 - val_loss: 0.6184 - val_accuracy: 0.7344 - lr: 0.0010\n",
      "Epoch 5/15\n",
      "2/2 [==============================] - 0s 46ms/step - loss: 0.6256 - accuracy: 0.6988 - val_loss: 0.5866 - val_accuracy: 0.7266 - lr: 0.0010\n",
      "Epoch 6/15\n",
      "2/2 [==============================] - 0s 50ms/step - loss: 0.6214 - accuracy: 0.6710 - val_loss: 0.5636 - val_accuracy: 0.7578 - lr: 0.0010\n",
      "Epoch 7/15\n",
      "2/2 [==============================] - 0s 45ms/step - loss: 0.5856 - accuracy: 0.6997 - val_loss: 0.5889 - val_accuracy: 0.7031 - lr: 0.0010\n",
      "Epoch 8/15\n",
      "2/2 [==============================] - 0s 42ms/step - loss: 0.5778 - accuracy: 0.6997 - val_loss: 0.5279 - val_accuracy: 0.7656 - lr: 0.0010\n",
      "Epoch 9/15\n",
      "2/2 [==============================] - 0s 44ms/step - loss: 0.5444 - accuracy: 0.7405 - val_loss: 0.5113 - val_accuracy: 0.7578 - lr: 0.0010\n",
      "Epoch 10/15\n",
      "2/2 [==============================] - 0s 45ms/step - loss: 0.5346 - accuracy: 0.7457 - val_loss: 0.5055 - val_accuracy: 0.7969 - lr: 0.0010\n",
      "Epoch 11/15\n",
      "2/2 [==============================] - 0s 48ms/step - loss: 0.5158 - accuracy: 0.7405 - val_loss: 0.4868 - val_accuracy: 0.8047 - lr: 0.0010\n",
      "Epoch 12/15\n",
      "2/2 [==============================] - 0s 41ms/step - loss: 0.5072 - accuracy: 0.7431 - val_loss: 0.4808 - val_accuracy: 0.7969 - lr: 0.0010\n",
      "Epoch 13/15\n",
      "2/2 [==============================] - 0s 97ms/step - loss: 0.4963 - accuracy: 0.7604 - val_loss: 0.4796 - val_accuracy: 0.8125 - lr: 0.0010\n",
      "Epoch 14/15\n",
      "2/2 [==============================] - 0s 53ms/step - loss: 0.4927 - accuracy: 0.7604 - val_loss: 0.4633 - val_accuracy: 0.8203 - lr: 0.0010\n",
      "Epoch 15/15\n",
      "2/2 [==============================] - 0s 64ms/step - loss: 0.4888 - accuracy: 0.7648 - val_loss: 0.4722 - val_accuracy: 0.7969 - lr: 0.0010\n"
     ]
    }
   ],
   "source": [
    "# modèle d'entraînement\n",
    "BATCH_SIZE = 1024\n",
    "EPOCHS = 15\n",
    "\n",
    "reduce_lr = ReduceLROnPlateau(monitor = 'val_loss', \n",
    "                              factor = 0.1,\n",
    "                              min_lr = 0.01)\n",
    "\n",
    "history = model.fit(x_train, y_train, batch_size = BATCH_SIZE, epochs = EPOCHS,\n",
    "                    validation_split = 0.1, verbose = 1, callbacks = [reduce_lr])"
   ]
  },
  {
   "cell_type": "markdown",
   "id": "c1be2b2e-cbbd-4182-b096-54fd7e9a5b9b",
   "metadata": {},
   "source": [
    "## Évaluation du modèle\n",
    "\n",
    "<img src=\"data/image/meter.png\" width=\"150\">\n",
    "\n",
    "Pour évaluer le modèle, nous utilisons le jeu de données de test et la même taille de BATCH_SIZE que celle utilisée lors de l'entraînement."
   ]
  },
  {
   "cell_type": "code",
   "execution_count": 20,
   "id": "3ff43abd-3082-4b87-9341-8b50d5e6f8b4",
   "metadata": {},
   "outputs": [
    {
     "name": "stdout",
     "output_type": "stream",
     "text": [
      "1/1 [==============================] - 0s 34ms/step - loss: 0.5888 - accuracy: 0.7094\n",
      "Perte au test :  0.5888316035270691\n",
      "Accuracy du test: 0.7093750238418579\n"
     ]
    }
   ],
   "source": [
    "score = model.evaluate(x_test, y_test, batch_size = BATCH_SIZE)\n",
    "print(\"Perte au test : \", score[0])\n",
    "print(\"Accuracy du test:\", score[1])"
   ]
  },
  {
   "cell_type": "markdown",
   "id": "68007cda-cd62-4c83-bd7f-d4c5182a39ef",
   "metadata": {},
   "source": [
    "Une fois le modèle évalué, nous pouvons l'enregistrer afin de ne pas avoir à le réentraîner si nous l'utilisons ultérieurement pour tester de nouvelles requêtes."
   ]
  },
  {
   "cell_type": "code",
   "execution_count": 21,
   "id": "2ece11ef-8854-4e54-a1b0-9914f5def8e8",
   "metadata": {},
   "outputs": [],
   "source": [
    "# Sauvegarde du modèle\n",
    "model.save('data/clean/lstm.h5')"
   ]
  },
  {
   "cell_type": "markdown",
   "id": "43e960a7-4345-4fff-9cc7-0d716afe5143",
   "metadata": {},
   "source": [
    "Nous traçons les résultats de notre modèle (accuracy et perte) pour l'entraînement et la validation, ce qui permet de vérifier plus facilement, comme c'est visuel, si le modèle est en sur- ou sous-apprentissage."
   ]
  },
  {
   "cell_type": "code",
   "execution_count": 22,
   "id": "ba87dacc-c44d-4829-9b00-f8b9ba077afb",
   "metadata": {},
   "outputs": [
    {
     "data": {
      "image/png": "[encoded data removed]",
      "text/plain": [
       "<Figure size 432x288 with 1 Axes>"
      ]
     },
     "metadata": {
      "needs_background": "light"
     },
     "output_type": "display_data"
    },
    {
     "data": {
      "image/png": "[encoded data removed]",
      "text/plain": [
       "<Figure size 432x288 with 1 Axes>"
      ]
     },
     "metadata": {
      "needs_background": "light"
     },
     "output_type": "display_data"
    }
   ],
   "source": [
    "# graphique des performances du modèle\n",
    "acc = history.history['accuracy']\n",
    "val_acc = history.history['val_accuracy']\n",
    "loss = history.history['loss'] \n",
    "val_loss = history.history['val_loss']\n",
    "\n",
    "epochs = range(1, len(acc) + 1)\n",
    "\n",
    "plt.plot(epochs, acc, 'bo', label = \"Accuracu de l'entraînement\")\n",
    "plt.plot(epochs, val_acc, 'b', label = \"Accuracy de la validation\")\n",
    "plt.title(\"Accuracy de l'entraînement et de la validation\")\n",
    "plt.legend()\n",
    "plt.figure()\n",
    "\n",
    "plt.plot(epochs, loss, 'bo', label = \"Perte à l'entraînement\")\n",
    "plt.plot(epochs, val_loss, 'b', label = \"Perte à la validation\")\n",
    "plt.title(\"Perte à l'entraînement et à la validation\")\n",
    "plt.legend()\n",
    "plt.show()"
   ]
  },
  {
   "cell_type": "markdown",
   "id": "4b03e402-5d2e-4f10-bfe4-75d280b48b91",
   "metadata": {},
   "source": [
    "TODO : Rédiger une analyse des résultats"
   ]
  },
  {
   "cell_type": "markdown",
   "id": "f4e9d999-6965-40f7-9e7a-73682977c6e8",
   "metadata": {},
   "source": [
    "## Prédiction du modèle\n",
    "\n",
    "<img src=\"data/image/predictive-chart.png\" width=\"150\">\n",
    "\n",
    "Comme le modèle utilise une fonction sigmoïde dans la dernière couche, cela signifie qu'il nous donne des résultats entre 0 et 1. Nous avons donc besoin d'une fonction pour décoder ces résultats. Si le résultat est inférieur à 0,5, alors le sentiment du tweet est considéré comme négatif et si le résultat est supérieur ou égal à 0,5, il est considéré comme positif."
   ]
  },
  {
   "cell_type": "code",
   "execution_count": 23,
   "id": "a78813eb-935e-41f0-a216-4075f700c7a1",
   "metadata": {},
   "outputs": [],
   "source": [
    "# décoder la prédiction de score du modèle, pour qu'elle soit 0 ou 1\n",
    "def decode_prediction(prediction):\n",
    "    return 'Négatif' if prediction < 0.5 else 'Positif'"
   ]
  },
  {
   "cell_type": "markdown",
   "id": "25adda8e-8a54-4f5b-8428-90276e403317",
   "metadata": {},
   "source": [
    "Le code présenté ci-dessous charge le modèle et le tokenizer sauvegardés dans les étapes précédentes. Et il utilise les fonctions que nous avons utilisées pour nettoyer, tokeniser et rembourrer les tweets dans l'ensemble de données d'entraînement. Ceci est important car si nous avons formé notre modèle avec des données nettoyées, nous devons également tester notre modèle avec de nouvelles données nettoyées."
   ]
  },
  {
   "cell_type": "code",
   "execution_count": 24,
   "id": "c8cd4219-1e0e-4953-9cb2-8cad4da2b8be",
   "metadata": {},
   "outputs": [
    {
     "name": "stdout",
     "output_type": "stream",
     "text": [
      "Tweet : I told you that she was not happy\n",
      "Score : [0.27283606]\n",
      "Label : Négatif\n"
     ]
    }
   ],
   "source": [
    "# chargement du modèle\n",
    "model = load_model('data/clean/lstm.h5')\n",
    "# chargement du tokéniseur\n",
    "with open('data/clean/tokenizer.pickle', 'rb') as handle:\n",
    "    tokenizer = pickle.load(handle)\n",
    "\n",
    "# Test du modèle avec une nouvelle requête\n",
    "tweet = \"I told you that she was not happy\"\n",
    "\n",
    "# nettoyage du texte de la requête\n",
    "input_text = clean_text(tweet)\n",
    "# tokéniser et rembourrer la requête test comme dans l'entraînement\n",
    "input_text = pad_sequences(tokenizer.texts_to_sequences([input_text]),\n",
    "                        maxlen = max_length)\n",
    "\n",
    "# obtenir la prédiction du modèle\n",
    "prediction = model.predict([input_text])[0]\n",
    "# obtenir la prédiction de décodage\n",
    "label = decode_prediction(prediction)\n",
    "\n",
    "print(f\"Tweet : {tweet}\")\n",
    "print(f\"Score : {prediction}\")\n",
    "print(f\"Label : {label}\")"
   ]
  },
  {
   "cell_type": "markdown",
   "id": "19afe49f-467a-4f7c-9e08-9997e1e8ec07",
   "metadata": {},
   "source": [
    "## Conclusions\n",
    "\n",
    "<img src=\"data/image/light-bulb.png\" width=\"150\">\n",
    "\n",
    "L'analyse des sentiments n'est pas une tâche facile, comme c'est le cas pour le traitement du langage naturel. Les tweets ont tendance à être bruités et à utiliser de nombreuses formes différentes pour les mots, ce qui peut constituer un problème pour leur analyse. Cependant, la quantité de données et le prétraitement des données ont beaucoup aidé ce projet à obtenir de bons résultats.\n",
    "\n",
    "Le embedding pré-entraînée semble être une décision importante car elle a montré de meilleurs résultats lorsqu'elle a été pré-entraînée spécialement avec des tweets qu'avec des articles de Wikipedia.\n",
    "\n",
    "Les prédictions obtenues avec les nouvelles données sont précises par rapport au contenu des tweets, ce qui signifie que le modèle fonctionne bien avec une précision de ~77%.\n",
    "\n",
    "Le modèle pourrait être amélioré en ajoutant de nouvelles techniques de prétraitement des données et avec d'autres architectures de modèles recommandées pour l'analyse des sentiments comme les LSTM bidirectionnels."
   ]
  }
 ],
 "metadata": {
  "kernelspec": {
   "display_name": "Python 3 (ipykernel)",
   "language": "python",
   "name": "python3"
  },
  "language_info": {
   "codemirror_mode": {
    "name": "ipython",
    "version": 3
   },
   "file_extension": ".py",
   "mimetype": "text/x-python",
   "name": "python",
   "nbconvert_exporter": "python",
   "pygments_lexer": "ipython3",
   "version": "3.9.7"
  },
  "toc": {
   "base_numbering": 1,
   "nav_menu": {},
   "number_sections": true,
   "sideBar": true,
   "skip_h1_title": true,
   "title_cell": "Table des matières",
   "title_sidebar": "Sommaire",
   "toc_cell": true,
   "toc_position": {},
   "toc_section_display": true,
   "toc_window_display": false
  }
 },
 "nbformat": 4,
 "nbformat_minor": 5
}
