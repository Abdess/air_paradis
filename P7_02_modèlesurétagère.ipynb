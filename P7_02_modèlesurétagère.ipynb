{
 "cells": [
  {
   "cell_type": "markdown",
   "id": "e153ed27",
   "metadata": {},
   "source": [
    "TODO : Mise en page du notebook"
   ]
  },
  {
   "cell_type": "code",
   "execution_count": 1,
   "id": "8a331a5e",
   "metadata": {},
   "outputs": [],
   "source": [
    "from cognitive_functions import *"
   ]
  },
  {
   "cell_type": "code",
   "execution_count": 2,
   "id": "4520d7e3",
   "metadata": {},
   "outputs": [],
   "source": [
    "df = pd.read_csv(\"data/clean/test_data.csv\").drop(\"Unnamed: 0\", axis=1)"
   ]
  },
  {
   "cell_type": "code",
   "execution_count": 3,
   "id": "97436a36",
   "metadata": {},
   "outputs": [
    {
     "name": "stdout",
     "output_type": "stream",
     "text": [
      "Le nombre de lignes perdu est de 332 sur un total de 1280 lignes, soit 74.0625% de lignes conservées le tout en 167.24 secondes\n"
     ]
    }
   ],
   "source": [
    "timer_start = time()\n",
    "for index, row in df.iterrows():\n",
    "    results = results.append(\n",
    "        {\n",
    "            'Tweet': row['text'],\n",
    "            'Target': row['target'],\n",
    "            'Prédit': predict_sentiment(client, row['text'])\n",
    "        },\n",
    "        ignore_index=True)\n",
    "\n",
    "timer_end = time() - timer_start\n",
    "\n",
    "results['Target'] = results['Target'].replace([0, 4],\n",
    "                                              [0, 1])\n",
    "results = results[results['Prédit'] != 'neutral']\n",
    "results['Prédit'] = results['Prédit'].replace(['negative', 'positive'],\n",
    "                                              [0, 1])\n",
    "\n",
    "print(f'Le nombre de ligne perdu est de {len(df)-len(results)}\\\n",
    "    sur un total de {len(df)} lignes, soit {len(results)/len(df)*100}%\\\n",
    "    de lignes conservé, le tout en {timer_end} secondes')"
   ]
  },
  {
   "cell_type": "code",
   "execution_count": 4,
   "id": "af47a413",
   "metadata": {},
   "outputs": [
    {
     "data": {
      "text/html": [
       "<div>\n",
       "<style scoped>\n",
       "    .dataframe tbody tr th:only-of-type {\n",
       "        vertical-align: middle;\n",
       "    }\n",
       "\n",
       "    .dataframe tbody tr th {\n",
       "        vertical-align: top;\n",
       "    }\n",
       "\n",
       "    .dataframe thead th {\n",
       "        text-align: right;\n",
       "    }\n",
       "</style>\n",
       "<table border=\"1\" class=\"dataframe\">\n",
       "  <thead>\n",
       "    <tr style=\"text-align: right;\">\n",
       "      <th></th>\n",
       "      <th>Tweet</th>\n",
       "      <th>Target</th>\n",
       "      <th>Prédit</th>\n",
       "    </tr>\n",
       "  </thead>\n",
       "  <tbody>\n",
       "    <tr>\n",
       "      <th>0</th>\n",
       "      <td>sounds like a good guide book phoooooto</td>\n",
       "      <td>1</td>\n",
       "      <td>1</td>\n",
       "    </tr>\n",
       "    <tr>\n",
       "      <th>1</th>\n",
       "      <td>is watching titanic</td>\n",
       "      <td>1</td>\n",
       "      <td>1</td>\n",
       "    </tr>\n",
       "    <tr>\n",
       "      <th>4</th>\n",
       "      <td>so if they are concluding that there are no su...</td>\n",
       "      <td>0</td>\n",
       "      <td>0</td>\n",
       "    </tr>\n",
       "    <tr>\n",
       "      <th>5</th>\n",
       "      <td>you know it s really sad that u know that ur c...</td>\n",
       "      <td>0</td>\n",
       "      <td>0</td>\n",
       "    </tr>\n",
       "    <tr>\n",
       "      <th>6</th>\n",
       "      <td>dope track but no download</td>\n",
       "      <td>0</td>\n",
       "      <td>0</td>\n",
       "    </tr>\n",
       "    <tr>\n",
       "      <th>...</th>\n",
       "      <td>...</td>\n",
       "      <td>...</td>\n",
       "      <td>...</td>\n",
       "    </tr>\n",
       "    <tr>\n",
       "      <th>1272</th>\n",
       "      <td>lord please gave jordin the power to sing plea...</td>\n",
       "      <td>1</td>\n",
       "      <td>1</td>\n",
       "    </tr>\n",
       "    <tr>\n",
       "      <th>1275</th>\n",
       "      <td>redoing work is the most depressing thing iv d...</td>\n",
       "      <td>0</td>\n",
       "      <td>0</td>\n",
       "    </tr>\n",
       "    <tr>\n",
       "      <th>1276</th>\n",
       "      <td>o o how could you do that i feel sick too some...</td>\n",
       "      <td>0</td>\n",
       "      <td>0</td>\n",
       "    </tr>\n",
       "    <tr>\n",
       "      <th>1277</th>\n",
       "      <td>i miss my baby in japan</td>\n",
       "      <td>0</td>\n",
       "      <td>1</td>\n",
       "    </tr>\n",
       "    <tr>\n",
       "      <th>1279</th>\n",
       "      <td>a good series and also a good tune phil oakley...</td>\n",
       "      <td>1</td>\n",
       "      <td>1</td>\n",
       "    </tr>\n",
       "  </tbody>\n",
       "</table>\n",
       "<p>948 rows × 3 columns</p>\n",
       "</div>"
      ],
      "text/plain": [
       "                                                  Tweet  Target  Prédit\n",
       "0               sounds like a good guide book phoooooto       1       1\n",
       "1                                   is watching titanic       1       1\n",
       "4     so if they are concluding that there are no su...       0       0\n",
       "5     you know it s really sad that u know that ur c...       0       0\n",
       "6                            dope track but no download       0       0\n",
       "...                                                 ...     ...     ...\n",
       "1272  lord please gave jordin the power to sing plea...       1       1\n",
       "1275  redoing work is the most depressing thing iv d...       0       0\n",
       "1276  o o how could you do that i feel sick too some...       0       0\n",
       "1277                            i miss my baby in japan       0       1\n",
       "1279  a good series and also a good tune phil oakley...       1       1\n",
       "\n",
       "[948 rows x 3 columns]"
      ]
     },
     "execution_count": 4,
     "metadata": {},
     "output_type": "execute_result"
    }
   ],
   "source": [
    "results"
   ]
  },
  {
   "cell_type": "code",
   "execution_count": 5,
   "id": "98c5f8f5",
   "metadata": {},
   "outputs": [
    {
     "data": {
      "text/plain": [
       "[{'Modèle': 'Cognitive Service',\n",
       "  'Durée (s)': '167.24',\n",
       "  'Nb de lignes': '948.0',\n",
       "  'Score ROC (%)': '76.131',\n",
       "  'Accuracy (%)': '75.949'}]"
      ]
     },
     "execution_count": 5,
     "metadata": {},
     "output_type": "execute_result"
    }
   ],
   "source": [
    "from sklearn.metrics import roc_curve, auc, accuracy_score\n",
    "\n",
    "# Test et prédiction\n",
    "y_test = results.Target\n",
    "y_pred = results.Prédit\n",
    "\n",
    "# ROC\n",
    "fpr, tpr, thresholds = roc_curve(y_test, y_pred, pos_label=1)\n",
    "auc_score = auc(fpr, tpr)\n",
    "\n",
    "# Accuracy\n",
    "accuracy = accuracy_score(y_test, y_pred)\n",
    "\n",
    "save_score_cognitive(score_cognitive, results, auc_score, accuracy)"
   ]
  },
  {
   "cell_type": "code",
   "execution_count": 6,
   "id": "792df919",
   "metadata": {},
   "outputs": [
    {
     "data": {
      "image/png": "[encoded data removed]",
      "text/plain": [
       "<Figure size 360x360 with 1 Axes>"
      ]
     },
     "metadata": {
      "needs_background": "light"
     },
     "output_type": "display_data"
    },
    {
     "name": "stdout",
     "output_type": "stream",
     "text": [
      "              precision    recall  f1-score   support\n",
      "\n",
      "           0       0.80      0.71      0.75       492\n",
      "           1       0.72      0.81      0.76       456\n",
      "\n",
      "    accuracy                           0.76       948\n",
      "   macro avg       0.76      0.76      0.76       948\n",
      "weighted avg       0.76      0.76      0.76       948\n",
      "\n"
     ]
    }
   ],
   "source": [
    "plot_confusion_matrix(y_test, y_pred)"
   ]
  },
  {
   "cell_type": "code",
   "execution_count": 7,
   "id": "2f8ba77a",
   "metadata": {},
   "outputs": [],
   "source": [
    "score_cognitive.to_csv('data/clean/resultat_cognitive.csv')"
   ]
  },
  {
   "cell_type": "code",
   "execution_count": 8,
   "id": "019109f9",
   "metadata": {},
   "outputs": [
    {
     "data": {
      "text/html": [
       "<div>\n",
       "<style scoped>\n",
       "    .dataframe tbody tr th:only-of-type {\n",
       "        vertical-align: middle;\n",
       "    }\n",
       "\n",
       "    .dataframe tbody tr th {\n",
       "        vertical-align: top;\n",
       "    }\n",
       "\n",
       "    .dataframe thead th {\n",
       "        text-align: right;\n",
       "    }\n",
       "</style>\n",
       "<table border=\"1\" class=\"dataframe\">\n",
       "  <thead>\n",
       "    <tr style=\"text-align: right;\">\n",
       "      <th></th>\n",
       "      <th>Modèle</th>\n",
       "      <th>Durée (s)</th>\n",
       "      <th>Nb de lignes</th>\n",
       "      <th>Score ROC (%)</th>\n",
       "      <th>Accuracy (%)</th>\n",
       "    </tr>\n",
       "  </thead>\n",
       "  <tbody>\n",
       "    <tr>\n",
       "      <th>0</th>\n",
       "      <td>Cognitive Service</td>\n",
       "      <td>167.24</td>\n",
       "      <td>948.0</td>\n",
       "      <td>76.131</td>\n",
       "      <td>75.949</td>\n",
       "    </tr>\n",
       "  </tbody>\n",
       "</table>\n",
       "</div>"
      ],
      "text/plain": [
       "              Modèle  Durée (s)  Nb de lignes  Score ROC (%)  Accuracy (%)\n",
       "0  Cognitive Service     167.24         948.0         76.131        75.949"
      ]
     },
     "execution_count": 8,
     "metadata": {},
     "output_type": "execute_result"
    }
   ],
   "source": [
    "score_cognitive = pd.read_csv('data/clean/resultat_cognitive.csv').drop(\"Unnamed: 0\", axis=1)\n",
    "score_cognitive"
   ]
  }
 ],
 "metadata": {
  "kernelspec": {
   "display_name": "Python 3 (ipykernel)",
   "language": "python",
   "name": "python3"
  },
  "language_info": {
   "codemirror_mode": {
    "name": "ipython",
    "version": 3
   },
   "file_extension": ".py",
   "mimetype": "text/x-python",
   "name": "python",
   "nbconvert_exporter": "python",
   "pygments_lexer": "ipython3",
   "version": "3.9.7"
  },
  "toc": {
   "base_numbering": 1,
   "nav_menu": {},
   "number_sections": true,
   "sideBar": true,
   "skip_h1_title": false,
   "title_cell": "Table of Contents",
   "title_sidebar": "Contents",
   "toc_cell": false,
   "toc_position": {},
   "toc_section_display": true,
   "toc_window_display": false
  }
 },
 "nbformat": 4,
 "nbformat_minor": 5
}
